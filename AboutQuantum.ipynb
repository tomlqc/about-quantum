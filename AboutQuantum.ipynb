{
 "cells": [
  {
   "cell_type": "markdown",
   "metadata": {},
   "source": [
    "# About Quantum\n",
    "\n",
    "*52 Stories about Quantum Science*\n",
    "\n",
    "https://www.about-quantum.com/\n",
    "\n",
    "`file:///D:/Programming/AboutQuantum/build/html/index.html`\n",
    "\n",
    "See also background on [Learning/AboutQuantum/AboutQuantum.ipynb](/notebooks/Learning/AboutQuantum/AboutQuantum.ipynb)."
   ]
  },
  {
   "cell_type": "markdown",
   "metadata": {},
   "source": [
    "## Table of Contents\n",
    "\n",
    "* [Developing](#devel)"
   ]
  },
  {
   "cell_type": "markdown",
   "metadata": {},
   "source": [
    "## <a name=\"devel\"></a> Developing"
   ]
  },
  {
   "cell_type": "markdown",
   "metadata": {},
   "source": [
    "### dos\n",
    "\n",
    "- `rmdir /s/q <DIR>` - `/s` deletes a directory tree, `/q` in quiet mode "
   ]
  },
  {
   "cell_type": "markdown",
   "metadata": {},
   "source": [
    "### conda\n",
    "\n",
    "- `conda update --all`\n",
    "\n",
    "\n",
    "- https://docs.conda.io/projects/conda/en/latest/user-guide/tasks/manage-environments.html - manage environments\n",
    "- `conda env list` - list environments\n",
    "- `conda list [-n myenv] [package]` - list packages in an environment\n",
    "- `conda env export > environment.yml` - exporting the environment\n",
    "- `conda env create -f environment.yml -n ENV_NAME` - create from file\n",
    "\n",
    "#### conda env \"base\"\n",
    "\n",
    "- `conda install jupyter`\n",
    "\n",
    "#### conda env \"quantum\"\n",
    "\n",
    "- `conda create -n quantum python=3.7.10`\n",
    "- `conda activate quantum`\n",
    "\n",
    "\n",
    "- `conda install numpy scipy cython matplotlib pytest pytest-cov jupyter notebook spyder pywin32 sphinx jupyter_sphinx qutip`\n",
    "- `pip install sphinx-rtd-theme sphinxcontrib-bibtex`\n",
    "- `pip install qiskit[visualization]`\n",
    "\n",
    "\n",
    "- `python -m ipykernel install --user --name quantum --display-name \"quantum\"  # in the (quantum) env`"
   ]
  },
  {
   "cell_type": "markdown",
   "metadata": {},
   "source": [
    "#### Trouble shooting\n",
    "\n",
    "- [nbconvert raises NotImplementedError on Windows & Python 3.8](https://github.com/jupyter/nbconvert/issues/1372#issuecomment-691596163)\n",
    "\n",
    "- [Asyncio related notimplementederror in Windows with Python 3.8 coming from zmq](https://github.com/terrapower/armi/issues/175)\n"
   ]
  },
  {
   "cell_type": "markdown",
   "metadata": {},
   "source": [
    "#### sphinx\n",
    "\n",
    "- https://github.com/jupyter/jupyter-sphinx\n",
    "- http://ipython.readthedocs.io/en/stable/install/kernel_install.html\n",
    "\n",
    "\n",
    "- `conda install sphinx`\n",
    "- `pip install sphinx-rtd-theme`\n",
    "- `pip install sphinxcontrib-bibtex`\n",
    "- `pip install jupyter_sphinx`\n",
    "- `pip install sphinxext-opengraph`\n",
    "\n",
    "#### QuTIP\n",
    "- `conda install numpy scipy cython matplotlib pytest pytest-cov jupyter notebook spyder`\n",
    "- `conda config --append channels conda-forge` - \"conda-forge\" channel for QuTIP, with lowest priority\n",
    "- `conda install qutip`\n",
    "\n",
    "#### Qiskit\n",
    "- `pip install qiskit[visualization]`"
   ]
  },
  {
   "cell_type": "markdown",
   "metadata": {},
   "source": [
    "### git\n",
    "\n",
    "- just install git\n",
    "\n",
    "\n",
    "- https://stackoverflow.com/questions/6557467/can-git-ignore-a-specific-line\n",
    "- https://stackoverflow.com/questions/25563455/how-do-i-get-last-commit-date-from-git-repository/25564443\n",
    "  - `git log -1 --format=%cd --date=short <branch> <path>`\n",
    "  \n",
    "\n",
    "- `git difftool -d [--cached]` and in `.gitconfig`:\n",
    "  ```\n",
    "  [diff]\n",
    "    tool = meld\n",
    "    \n",
    "  [difftool]\n",
    "    prompt = false\n",
    "\n",
    "  [difftool \"meld\"]\n",
    "    path = /c/Program Files (x86)/Meld/Meld.exe\n",
    "  ```"
   ]
  },
  {
   "cell_type": "markdown",
   "metadata": {},
   "source": [
    "### sphinx\n",
    "- https://www.sphinx-doc.org/en/master/usage/quickstart.html - `sphinx`\n",
    "  - `sphinx-quickstart` generates a Makefile\n",
    "  - `make html`\n",
    "- https://www.sphinx-doc.org/en/master/usage/restructuredtext/basics.html - `rst`\n",
    "- https://docutils.sourceforge.io/rst.html\n",
    "\n",
    "\n",
    "- https://jupyter-sphinx.readthedocs.io/en/stable/ - `jupyter_sphinx`\n",
    "  - `pip install jupyter_sphinx`\n",
    "\n",
    "\n",
    "- https://sphinxcontrib-bibtex.readthedocs.io/en/stable/usage.html - `sphinxcontrib.bibtex`\n",
    "- https://www.overleaf.com/learn/latex/bibtex_bibliography_styles"
   ]
  },
  {
   "cell_type": "markdown",
   "metadata": {},
   "source": [
    "### latex\n",
    "\n",
    "- https://tex.stackexchange.com/questions/43464/multiple-alignment-in-equations"
   ]
  },
  {
   "cell_type": "markdown",
   "metadata": {},
   "source": [
    "### bibtex citations\n",
    "\n",
    "- https://www.bibtex.com/e/entry-types\n",
    "- https://www.literatur-generator.de\n",
    "- **https://doi2bib.org**"
   ]
  },
  {
   "cell_type": "markdown",
   "metadata": {},
   "source": []
  }
 ],
 "metadata": {
  "kernelspec": {
   "display_name": "quantum",
   "language": "python",
   "name": "quantum"
  },
  "language_info": {
   "codemirror_mode": {
    "name": "ipython",
    "version": 3
   },
   "file_extension": ".py",
   "mimetype": "text/x-python",
   "name": "python",
   "nbconvert_exporter": "python",
   "pygments_lexer": "ipython3",
   "version": "3.8.10"
  }
 },
 "nbformat": 4,
 "nbformat_minor": 2
}
